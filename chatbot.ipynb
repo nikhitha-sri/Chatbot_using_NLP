{
 "cells": [
  {
   "cell_type": "code",
   "execution_count": null,
   "id": "7c938fc3-504c-4d97-90e3-f5694b284aba",
   "metadata": {},
   "outputs": [],
   "source": []
  },
  {
   "cell_type": "markdown",
   "id": "9cc62f04-29e2-4f3e-a66a-eeae47d954af",
   "metadata": {},
   "source": [
    "Chatbot using NLP"
   ]
  },
  {
   "cell_type": "code",
   "execution_count": 2,
   "id": "b9473a5c-9a96-4686-887e-7d73bde386b2",
   "metadata": {},
   "outputs": [
    {
     "name": "stdout",
     "output_type": "stream",
     "text": [
      "Requirement already satisfied: nltk in d:\\anaconda\\lib\\site-packages (3.8.1)\n",
      "Requirement already satisfied: scikit-learn in d:\\anaconda\\lib\\site-packages (1.2.2)\n",
      "Requirement already satisfied: streamlit in d:\\anaconda\\lib\\site-packages (1.30.0)\n",
      "Requirement already satisfied: click in d:\\anaconda\\lib\\site-packages (from nltk) (8.1.7)\n",
      "Requirement already satisfied: joblib in d:\\anaconda\\lib\\site-packages (from nltk) (1.2.0)\n",
      "Requirement already satisfied: regex>=2021.8.3 in d:\\anaconda\\lib\\site-packages (from nltk) (2023.10.3)\n",
      "Requirement already satisfied: tqdm in d:\\anaconda\\lib\\site-packages (from nltk) (4.65.0)\n",
      "Requirement already satisfied: numpy>=1.17.3 in d:\\anaconda\\lib\\site-packages (from scikit-learn) (1.26.4)\n",
      "Requirement already satisfied: scipy>=1.3.2 in d:\\anaconda\\lib\\site-packages (from scikit-learn) (1.11.4)\n",
      "Requirement already satisfied: threadpoolctl>=2.0.0 in d:\\anaconda\\lib\\site-packages (from scikit-learn) (2.2.0)\n",
      "Requirement already satisfied: altair<6,>=4.0 in d:\\anaconda\\lib\\site-packages (from streamlit) (5.0.1)\n",
      "Requirement already satisfied: blinker<2,>=1.0.0 in d:\\anaconda\\lib\\site-packages (from streamlit) (1.6.2)\n",
      "Requirement already satisfied: cachetools<6,>=4.0 in d:\\anaconda\\lib\\site-packages (from streamlit) (4.2.2)\n",
      "Requirement already satisfied: importlib-metadata<8,>=1.4 in d:\\anaconda\\lib\\site-packages (from streamlit) (7.0.1)\n",
      "Requirement already satisfied: packaging<24,>=16.8 in d:\\anaconda\\lib\\site-packages (from streamlit) (23.1)\n",
      "Requirement already satisfied: pandas<3,>=1.3.0 in d:\\anaconda\\lib\\site-packages (from streamlit) (2.1.4)\n",
      "Requirement already satisfied: pillow<11,>=7.1.0 in d:\\anaconda\\lib\\site-packages (from streamlit) (10.2.0)\n",
      "Requirement already satisfied: protobuf<5,>=3.20 in d:\\anaconda\\lib\\site-packages (from streamlit) (3.20.3)\n",
      "Requirement already satisfied: pyarrow>=6.0 in d:\\anaconda\\lib\\site-packages (from streamlit) (14.0.2)\n",
      "Requirement already satisfied: python-dateutil<3,>=2.7.3 in d:\\anaconda\\lib\\site-packages (from streamlit) (2.8.2)\n",
      "Requirement already satisfied: requests<3,>=2.27 in d:\\anaconda\\lib\\site-packages (from streamlit) (2.31.0)\n",
      "Requirement already satisfied: rich<14,>=10.14.0 in d:\\anaconda\\lib\\site-packages (from streamlit) (13.3.5)\n",
      "Requirement already satisfied: tenacity<9,>=8.1.0 in d:\\anaconda\\lib\\site-packages (from streamlit) (8.2.2)\n",
      "Requirement already satisfied: toml<2,>=0.10.1 in d:\\anaconda\\lib\\site-packages (from streamlit) (0.10.2)\n",
      "Requirement already satisfied: typing-extensions<5,>=4.3.0 in d:\\anaconda\\lib\\site-packages (from streamlit) (4.9.0)\n",
      "Requirement already satisfied: tzlocal<6,>=1.1 in d:\\anaconda\\lib\\site-packages (from streamlit) (2.1)\n",
      "Requirement already satisfied: validators<1,>=0.2 in d:\\anaconda\\lib\\site-packages (from streamlit) (0.18.2)\n",
      "Requirement already satisfied: gitpython!=3.1.19,<4,>=3.0.7 in d:\\anaconda\\lib\\site-packages (from streamlit) (3.1.37)\n",
      "Requirement already satisfied: pydeck<1,>=0.8.0b4 in d:\\anaconda\\lib\\site-packages (from streamlit) (0.8.0)\n",
      "Requirement already satisfied: tornado<7,>=6.0.3 in d:\\anaconda\\lib\\site-packages (from streamlit) (6.3.3)\n",
      "Requirement already satisfied: watchdog>=2.1.5 in d:\\anaconda\\lib\\site-packages (from streamlit) (2.1.6)\n",
      "Requirement already satisfied: jinja2 in d:\\anaconda\\lib\\site-packages (from altair<6,>=4.0->streamlit) (3.1.3)\n",
      "Requirement already satisfied: jsonschema>=3.0 in d:\\anaconda\\lib\\site-packages (from altair<6,>=4.0->streamlit) (4.19.2)\n",
      "Requirement already satisfied: toolz in d:\\anaconda\\lib\\site-packages (from altair<6,>=4.0->streamlit) (0.12.0)\n",
      "Requirement already satisfied: colorama in d:\\anaconda\\lib\\site-packages (from click->nltk) (0.4.6)\n",
      "Requirement already satisfied: gitdb<5,>=4.0.1 in d:\\anaconda\\lib\\site-packages (from gitpython!=3.1.19,<4,>=3.0.7->streamlit) (4.0.7)\n",
      "Requirement already satisfied: zipp>=0.5 in d:\\anaconda\\lib\\site-packages (from importlib-metadata<8,>=1.4->streamlit) (3.17.0)\n",
      "Requirement already satisfied: pytz>=2020.1 in d:\\anaconda\\lib\\site-packages (from pandas<3,>=1.3.0->streamlit) (2023.3.post1)\n",
      "Requirement already satisfied: tzdata>=2022.1 in d:\\anaconda\\lib\\site-packages (from pandas<3,>=1.3.0->streamlit) (2023.3)\n",
      "Requirement already satisfied: six>=1.5 in d:\\anaconda\\lib\\site-packages (from python-dateutil<3,>=2.7.3->streamlit) (1.16.0)\n",
      "Requirement already satisfied: charset-normalizer<4,>=2 in d:\\anaconda\\lib\\site-packages (from requests<3,>=2.27->streamlit) (2.0.4)\n",
      "Requirement already satisfied: idna<4,>=2.5 in d:\\anaconda\\lib\\site-packages (from requests<3,>=2.27->streamlit) (3.4)\n",
      "Requirement already satisfied: urllib3<3,>=1.21.1 in d:\\anaconda\\lib\\site-packages (from requests<3,>=2.27->streamlit) (2.0.7)\n",
      "Requirement already satisfied: certifi>=2017.4.17 in d:\\anaconda\\lib\\site-packages (from requests<3,>=2.27->streamlit) (2024.2.2)\n",
      "Requirement already satisfied: markdown-it-py<3.0.0,>=2.2.0 in d:\\anaconda\\lib\\site-packages (from rich<14,>=10.14.0->streamlit) (2.2.0)\n",
      "Requirement already satisfied: pygments<3.0.0,>=2.13.0 in d:\\anaconda\\lib\\site-packages (from rich<14,>=10.14.0->streamlit) (2.15.1)\n",
      "Requirement already satisfied: decorator>=3.4.0 in d:\\anaconda\\lib\\site-packages (from validators<1,>=0.2->streamlit) (5.1.1)\n",
      "Requirement already satisfied: smmap<5,>=3.0.1 in d:\\anaconda\\lib\\site-packages (from gitdb<5,>=4.0.1->gitpython!=3.1.19,<4,>=3.0.7->streamlit) (4.0.0)\n",
      "Requirement already satisfied: MarkupSafe>=2.0 in d:\\anaconda\\lib\\site-packages (from jinja2->altair<6,>=4.0->streamlit) (2.1.3)\n",
      "Requirement already satisfied: attrs>=22.2.0 in d:\\anaconda\\lib\\site-packages (from jsonschema>=3.0->altair<6,>=4.0->streamlit) (23.1.0)\n",
      "Requirement already satisfied: jsonschema-specifications>=2023.03.6 in d:\\anaconda\\lib\\site-packages (from jsonschema>=3.0->altair<6,>=4.0->streamlit) (2023.7.1)\n",
      "Requirement already satisfied: referencing>=0.28.4 in d:\\anaconda\\lib\\site-packages (from jsonschema>=3.0->altair<6,>=4.0->streamlit) (0.30.2)\n",
      "Requirement already satisfied: rpds-py>=0.7.1 in d:\\anaconda\\lib\\site-packages (from jsonschema>=3.0->altair<6,>=4.0->streamlit) (0.10.6)\n",
      "Requirement already satisfied: mdurl~=0.1 in d:\\anaconda\\lib\\site-packages (from markdown-it-py<3.0.0,>=2.2.0->rich<14,>=10.14.0->streamlit) (0.1.0)\n",
      "Note: you may need to restart the kernel to use updated packages.\n"
     ]
    }
   ],
   "source": [
    "pip install nltk scikit-learn streamlit"
   ]
  },
  {
   "cell_type": "code",
   "execution_count": 4,
   "id": "b28e6959-848e-4415-8d13-680561f2d681",
   "metadata": {},
   "outputs": [],
   "source": [
    "import nltk\n",
    "import random\n",
    "import os\n",
    "import ssl\n",
    "import streamlit as st\n",
    "from sklearn.feature_extraction.text import TfidfVectorizer\n",
    "from sklearn.linear_model import LogisticRegression"
   ]
  },
  {
   "cell_type": "code",
   "execution_count": 5,
   "id": "79292eb5-2a57-4079-9f76-09352b922a4e",
   "metadata": {},
   "outputs": [
    {
     "name": "stderr",
     "output_type": "stream",
     "text": [
      "[nltk_data] Downloading package punkt to\n",
      "[nltk_data]     C:\\Users\\nikhi\\AppData\\Roaming\\nltk_data...\n",
      "[nltk_data]   Unzipping tokenizers\\punkt.zip.\n"
     ]
    },
    {
     "data": {
      "text/plain": [
       "True"
      ]
     },
     "execution_count": 5,
     "metadata": {},
     "output_type": "execute_result"
    }
   ],
   "source": [
    "ssl._create_default_https_context = ssl._create_unverified_context\n",
    "nltk.data.path.append(os.path.abspath('nltk_data'))\n",
    "nltk.download('punkt')"
   ]
  },
  {
   "cell_type": "code",
   "execution_count": 8,
   "id": "614e259b-8066-4ad8-961e-2e1748fba3bf",
   "metadata": {},
   "outputs": [],
   "source": [
    "intents= [\n",
    "    {\n",
    "        'tag':'greeting',\n",
    "        'patterns':['Hi','Hello','Hey','Whats up','How are you'],\n",
    "        'responses':['Hi there','Hello','Hey','Nothing much','Im fine thank you']\n",
    "    },\n",
    "    {\n",
    "        'tag':'goodbye',\n",
    "        'patterns':['Bye','see you later','good bye','Take crae'],\n",
    "        'responses':['Goodbye','see you later','Bye','thank you you too']\n",
    "    },\n",
    "    {\n",
    "        'tag': 'help',\n",
    "        'patterns': ['Can you help me?', 'I need assistance', 'Help me', 'Support'],\n",
    "        'responses': ['Of course! How can I assist you?', 'I\\'m here to help!', 'Sure, what do you need help with?']\n",
    "    },\n",
    "    {\n",
    "        'tag': 'weather',\n",
    "        'patterns': ['What\\'s the weather like?', 'Is it raining?', 'Weather update', 'Tell me the forecast'],\n",
    "        'responses': ['I can\\'t check the weather now, but you can look it up online!', 'I suggest checking a weather app for accurate information.']\n",
    "    },\n",
    "    {\n",
    "        'tag': 'jokes',\n",
    "        'patterns': ['Tell me a joke', 'Make me laugh', 'Say something funny'],\n",
    "        'responses': ['Why did the scarecrow win an award? Because he was outstanding in his field!', 'I would tell you a construction joke, but I\\'m still working on it.']\n",
    "    },\n",
    "    {\n",
    "        'tag': 'movies',\n",
    "        'patterns': ['Recommend a movie', 'What movie should I watch?', 'Suggest a film', 'Best movies'],\n",
    "        'responses': ['I recommend watching \"Inception\" if you like mind-bending stories!', '\"The Dark Knight\" is a great choice for action lovers.', 'Try \"Interstellar\" if you love sci-fi and space exploration.']\n",
    "    },\n",
    "    {\n",
    "        'tag': 'food',\n",
    "        'patterns': ['What should I cook?', 'Give me a recipe', 'What\\'s a good meal?', 'Suggest a dish'],\n",
    "        'responses': ['How about making some pasta with homemade sauce?', 'Try cooking a healthy stir-fry with veggies and chicken!', 'You can never go wrong with a classic grilled cheese sandwich.']\n",
    "    },\n",
    "    {\n",
    "        'tag': 'sports',\n",
    "        'patterns': ['Who won the last football match?', 'Sports update', 'Tell me about sports', 'Latest sports news'],\n",
    "        'responses': ['I can\\'t check live scores, but you can visit a sports news website!', 'Check ESPN or Google for the latest sports updates.']\n",
    "    },\n",
    "    {\n",
    "        'tag': 'motivation',\n",
    "        'patterns': ['Give me motivation', 'Inspire me', 'Say something uplifting', 'Motivational quote'],\n",
    "        'responses': ['Believe in yourself! You are capable of great things.', 'The only limit to our realization of tomorrow is our doubts of today.', 'Keep pushing forward, success is just around the corner!']\n",
    "    }\n",
    "]"
   ]
  },
  {
   "cell_type": "code",
   "execution_count": 9,
   "id": "a80ec704-17f2-4ea2-a8de-5300562c8bf6",
   "metadata": {},
   "outputs": [],
   "source": [
    "patterns = []\n",
    "tags = []\n",
    "for intent in intents:\n",
    "    for pattern in intent['patterns']:\n",
    "        patterns.append(pattern)\n",
    "        tags.append(intent['tag'])"
   ]
  },
  {
   "cell_type": "code",
   "execution_count": 10,
   "id": "dde52a5c-30c3-47b7-be8a-6f497ddb5bd7",
   "metadata": {},
   "outputs": [
    {
     "name": "stdout",
     "output_type": "stream",
     "text": [
      "['Hi', 'Hello', 'Hey', 'Whats up', 'How are you', 'Bye', 'see you later', 'good bye', 'Take crae', 'Can you help me?', 'I need assistance', 'Help me', 'Support', \"What's the weather like?\", 'Is it raining?', 'Weather update', 'Tell me the forecast', 'Tell me a joke', 'Make me laugh', 'Say something funny', 'Recommend a movie', 'What movie should I watch?', 'Suggest a film', 'Best movies', 'What should I cook?', 'Give me a recipe', \"What's a good meal?\", 'Suggest a dish', 'Who won the last football match?', 'Sports update', 'Tell me about sports', 'Latest sports news', 'Give me motivation', 'Inspire me', 'Say something uplifting', 'Motivational quote']\n"
     ]
    }
   ],
   "source": [
    "print(patterns)"
   ]
  },
  {
   "cell_type": "code",
   "execution_count": 11,
   "id": "41dfdb90-ab20-4077-820d-d339a6b06293",
   "metadata": {},
   "outputs": [
    {
     "name": "stdout",
     "output_type": "stream",
     "text": [
      "['greeting', 'greeting', 'greeting', 'greeting', 'greeting', 'goodbye', 'goodbye', 'goodbye', 'goodbye', 'help', 'help', 'help', 'help', 'weather', 'weather', 'weather', 'weather', 'jokes', 'jokes', 'jokes', 'movies', 'movies', 'movies', 'movies', 'food', 'food', 'food', 'food', 'sports', 'sports', 'sports', 'sports', 'motivation', 'motivation', 'motivation', 'motivation']\n"
     ]
    }
   ],
   "source": [
    "print(tags)"
   ]
  },
  {
   "cell_type": "code",
   "execution_count": null,
   "id": "79c16984-6a3f-4a2d-83dd-1b563f027ced",
   "metadata": {},
   "outputs": [],
   "source": []
  }
 ],
 "metadata": {
  "kernelspec": {
   "display_name": "Python 3 (ipykernel)",
   "language": "python",
   "name": "python3"
  },
  "language_info": {
   "codemirror_mode": {
    "name": "ipython",
    "version": 3
   },
   "file_extension": ".py",
   "mimetype": "text/x-python",
   "name": "python",
   "nbconvert_exporter": "python",
   "pygments_lexer": "ipython3",
   "version": "3.11.7"
  }
 },
 "nbformat": 4,
 "nbformat_minor": 5
}
